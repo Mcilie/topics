{
 "metadata": {
  "language_info": {
   "codemirror_mode": {
    "name": "ipython",
    "version": 3
   },
   "file_extension": ".py",
   "mimetype": "text/x-python",
   "name": "python",
   "nbconvert_exporter": "python",
   "pygments_lexer": "ipython3",
   "version": "3.9.4"
  },
  "orig_nbformat": 2,
  "kernelspec": {
   "name": "python394jvsc74a57bd0724588c769277eec1559a818f4d33dcaba65e848ce2ee61833dc206a0b8113e6",
   "display_name": "Python 3.9.4 64-bit ('topic-evaluation': conda)"
  },
  "metadata": {
   "interpreter": {
    "hash": "724588c769277eec1559a818f4d33dcaba65e848ce2ee61833dc206a0b8113e6"
   }
  }
 },
 "nbformat": 4,
 "nbformat_minor": 2,
 "cells": [
  {
   "cell_type": "code",
   "execution_count": 2,
   "metadata": {},
   "outputs": [],
   "source": [
    "import json\n",
    "from pathlib import Path\n",
    "import sys\n",
    "\n",
    "import numpy as np\n",
    "import pandas as pd\n",
    "import yaml\n",
    "\n",
    "sys.path.append(\"/workspace/topic-preprocessing/soup_nuts/models/dvae/\")\n",
    "from utils import compute_to, compute_tu"
   ]
  },
  {
   "cell_type": "code",
   "execution_count": 3,
   "metadata": {},
   "outputs": [],
   "source": [
    "def load_json(path):\n",
    "    with open(path) as infile:\n",
    "        return json.load(infile)\n",
    "\n",
    "def load_yaml(path):\n",
    "    with open(path) as infile:\n",
    "        return yaml.load(infile, Loader=yaml.FullLoader)\n",
    "\n",
    "def load_text(path):\n",
    "    with open(path) as infile:\n",
    "        return [text.strip().split(\" \") for text in infile]\n",
    "\n",
    "def save_json(obj, path):\n",
    "    with open(path, 'w') as outfile:\n",
    "        return json.dump(obj, outfile)"
   ]
  },
  {
   "source": [
    "## Coherences Computed Outside with calculate-coherence.py"
   ],
   "cell_type": "markdown",
   "metadata": {}
  },
  {
   "cell_type": "code",
   "execution_count": 16,
   "metadata": {},
   "outputs": [],
   "source": [
    "run_dir = \"./outputs/full-mindf_power_law-maxdf_0.9\"\n",
    "#run_dir = \"./outputs/vocab_25k-mindf_0.0001_or_3-maxdf_0.9\"\n",
    "coherence_measure = \"c_npmi_10_full\" # npmi test, npmi full yield same results\n",
    "\n",
    "max_overlapping_words = 5"
   ]
  },
  {
   "cell_type": "code",
   "execution_count": 12,
   "metadata": {},
   "outputs": [],
   "source": [
    "mallet_paths = [p for p in Path(run_dir).glob(\"**/mallet/**/coherences.json\")]\n",
    "dvae_paths = [p for p in Path(run_dir).glob(\"**/dvae/**/coherences.json\")]"
   ]
  },
  {
   "cell_type": "code",
   "execution_count": 13,
   "metadata": {},
   "outputs": [],
   "source": [
    "run_name = Path(run_dir).name\n",
    "input_dir_map = {\n",
    "    f\"/workspace/topic-preprocessing/data/nytimes/processed/{run_name}\": \"nytimes\",\n",
    "    f\"/workspace/topic-preprocessing/data/wikitext/processed/{run_name}\": \"wikitext\",\n",
    "    f\"/workspace/topic-preprocessing/data/bbc/processed/{run_name}\": \"bbc\",\n",
    "}"
   ]
  },
  {
   "cell_type": "code",
   "execution_count": 17,
   "metadata": {},
   "outputs": [],
   "source": [
    "mallet_config_keys = ['alpha', 'beta', 'input_dir', 'run_seeds', 'iterations']\n",
    "mallet_results = []\n",
    "for p in mallet_paths:\n",
    "    coherences = load_json(p)\n",
    "    config = {k: v for k, v in load_yaml(p.parent / \"config.yml\").items() if k in mallet_config_keys}\n",
    "    config[\"input_dir\"] = input_dir_map[config[\"input_dir\"]]\n",
    "    # TODO: select best if desired\n",
    "    final_coherence = list(coherences[coherence_measure].values())[-1]\n",
    "    topics = load_text(final_coherence[\"path\"])\n",
    "    to, overlaps = compute_to(topics, n=max_overlapping_words, return_overlaps=True)\n",
    "    tu = np.mean(compute_tu(topics, n=10))\n",
    "\n",
    "    mallet_results.append({\n",
    "        coherence_measure: np.nan if np.isinf(final_coherence[\"aggregate\"]) else final_coherence[\"aggregate\"],\n",
    "        f\"{coherence_measure}_sd\": np.std(final_coherence[\"by_topic\"]),\n",
    "        \"tu\": tu,\n",
    "        \"to\": to,\n",
    "        f\"mean_{coherence_measure}_tu\": np.mean([tu, final_coherence[\"aggregate\"]]),\n",
    "        \"overlaps\": np.sum(overlaps >= max_overlapping_words),\n",
    "        **config,\n",
    "        \"topics\": topics,\n",
    "        \"path\": str(p.parent),\n",
    "    })\n",
    "mallet_results = pd.DataFrame(mallet_results)"
   ]
  },
  {
   "cell_type": "code",
   "execution_count": 18,
   "metadata": {},
   "outputs": [],
   "source": [
    "mallet_top_coh = (\n",
    "    mallet_results.loc[mallet_results.overlaps == 0]\n",
    "                  .sort_values([\"input_dir\", coherence_measure], ascending=False)\n",
    "                  .groupby(\"input_dir\").head(1)\n",
    ")\n",
    "mallet_top_topics = {\n",
    "    input_dir: data.to_dict('records')[0]\n",
    "    for input_dir, data in mallet_top_coh.groupby(\"input_dir\")\n",
    "}"
   ]
  },
  {
   "cell_type": "code",
   "execution_count": 19,
   "metadata": {},
   "outputs": [],
   "source": [
    "dvae_config_keys = [\n",
    "    \"input_dir\",\n",
    "    \"alpha_prior\",\n",
    "    \"learning_rate\",\n",
    "    \"encoder_hidden_dim\",\n",
    "    \"topic_word_regularization\",\n",
    "    \"num_epochs\",\n",
    "    \"epochs_to_anneal_bn\",\n",
    "    \"epochs_to_anneal_kl\",\n",
    "    \"run_seeds\"\n",
    "]\n",
    "\n",
    "dvae_results = []\n",
    "for p in dvae_paths:\n",
    "    coherences = load_json(p)\n",
    "    config = {k: v for k, v in load_yaml(p.parent / \"config.yml\").items() if k in dvae_config_keys}\n",
    "    config[\"input_dir\"] = input_dir_map[config[\"input_dir\"]]\n",
    "    final_coherence = list(coherences[coherence_measure].values())[-1]\n",
    "    topics = load_text(final_coherence[\"path\"])\n",
    "    to, overlaps = compute_to(topics, n=max_overlapping_words, return_overlaps=True)\n",
    "    tu = np.mean(compute_tu(topics, n=10))\n",
    "\n",
    "    coh_values = np.nan_to_num(final_coherence[\"by_topic\"], nan=0, posinf=0)\n",
    "\n",
    "    dvae_results.append({\n",
    "        coherence_measure: np.mean(coh_values),\n",
    "        f\"{coherence_measure}_sd\": np.std(coh_values),\n",
    "        \"tu\": tu,\n",
    "        \"to\": to,\n",
    "        f\"mean_{coherence_measure}_tu\": np.mean([tu, final_coherence[\"aggregate\"]]),\n",
    "        \"overlaps\": np.sum(overlaps >= max_overlapping_words),\n",
    "        **config,\n",
    "        \"topics\": topics,\n",
    "        \"path\": str(p.parent),\n",
    "    })\n",
    "dvae_results = pd.DataFrame(dvae_results)"
   ]
  },
  {
   "cell_type": "code",
   "execution_count": 20,
   "metadata": {},
   "outputs": [],
   "source": [
    "dvae_top_coh = (\n",
    "    dvae_results.loc[dvae_results.overlaps == 0]\n",
    "                .sort_values([\"input_dir\", coherence_measure], ascending=False)\n",
    "                .groupby(\"input_dir\").head(1)\n",
    ")\n",
    "dvae_top_topics = {\n",
    "    input_dir: data.to_dict('records')[0]\n",
    "    for input_dir, data in dvae_top_coh.groupby(\"input_dir\")\n",
    "}"
   ]
  },
  {
   "cell_type": "code",
   "execution_count": 21,
   "metadata": {},
   "outputs": [],
   "source": [
    "out_path = Path(\"./results\", Path(run_dir).name)\n",
    "out_path.mkdir(exist_ok=True)\n",
    "save_json(mallet_top_topics, Path(out_path, f\"mallet-topics-best-{coherence_measure}.json\"))\n",
    "save_json(dvae_top_topics, Path(out_path, f\"dvae-topics-best-{coherence_measure}.json\"))"
   ]
  },
  {
   "cell_type": "code",
   "execution_count": 22,
   "metadata": {},
   "outputs": [],
   "source": [
    "n = 10\n",
    "pd.DataFrame(\n",
    "    [model, dataset, \", \".join(topic[:n])]\n",
    "    for (model, model_topics) in [('mallet',  mallet_top_topics), ('dvae', dvae_top_topics)]\n",
    "    for dataset, dataset_topics in model_topics.items()\n",
    "    for topic in dataset_topics['topics']\n",
    ").to_csv(out_path / f\"topics-best-{coherence_measure}.csv\", index=False)"
   ]
  },
  {
   "cell_type": "code",
   "execution_count": 23,
   "metadata": {},
   "outputs": [
    {
     "output_type": "execute_result",
     "data": {
      "text/plain": [
       "     c_npmi_10_test  c_npmi_10_test_sd     tu        to  \\\n",
       "74         0.215076           0.081543  0.920  0.055102   \n",
       "130        0.252880           0.132479  0.948  0.046939   \n",
       "\n",
       "     mean_c_npmi_10_test_tu  overlaps  alpha_prior  encoder_hidden_dim  \\\n",
       "74                 0.567538         0         0.01                   0   \n",
       "130                0.600440         0         0.01                   0   \n",
       "\n",
       "     epochs_to_anneal_bn  epochs_to_anneal_kl input_dir  learning_rate  \\\n",
       "74                     1                  100  wikitext           0.01   \n",
       "130                  200                  200   nytimes           0.01   \n",
       "\n",
       "     num_epochs  run_seeds  topic_word_regularization  \\\n",
       "74          500         42                        0.0   \n",
       "130         500       5591                        0.1   \n",
       "\n",
       "                                                topics  \\\n",
       "74   [[certifications, mtv_news, australian_recordi...   \n",
       "130  [[bridegroom, officiated, laude, bride, cum, m...   \n",
       "\n",
       "                                                  path  \n",
       "74   outputs/full-mindf_power_law-maxdf_0.9/wikitex...  \n",
       "130  outputs/full-mindf_power_law-maxdf_0.9/nytimes...  "
      ],
      "text/html": "<div>\n<style scoped>\n    .dataframe tbody tr th:only-of-type {\n        vertical-align: middle;\n    }\n\n    .dataframe tbody tr th {\n        vertical-align: top;\n    }\n\n    .dataframe thead th {\n        text-align: right;\n    }\n</style>\n<table border=\"1\" class=\"dataframe\">\n  <thead>\n    <tr style=\"text-align: right;\">\n      <th></th>\n      <th>c_npmi_10_test</th>\n      <th>c_npmi_10_test_sd</th>\n      <th>tu</th>\n      <th>to</th>\n      <th>mean_c_npmi_10_test_tu</th>\n      <th>overlaps</th>\n      <th>alpha_prior</th>\n      <th>encoder_hidden_dim</th>\n      <th>epochs_to_anneal_bn</th>\n      <th>epochs_to_anneal_kl</th>\n      <th>input_dir</th>\n      <th>learning_rate</th>\n      <th>num_epochs</th>\n      <th>run_seeds</th>\n      <th>topic_word_regularization</th>\n      <th>topics</th>\n      <th>path</th>\n    </tr>\n  </thead>\n  <tbody>\n    <tr>\n      <th>74</th>\n      <td>0.215076</td>\n      <td>0.081543</td>\n      <td>0.920</td>\n      <td>0.055102</td>\n      <td>0.567538</td>\n      <td>0</td>\n      <td>0.01</td>\n      <td>0</td>\n      <td>1</td>\n      <td>100</td>\n      <td>wikitext</td>\n      <td>0.01</td>\n      <td>500</td>\n      <td>42</td>\n      <td>0.0</td>\n      <td>[[certifications, mtv_news, australian_recordi...</td>\n      <td>outputs/full-mindf_power_law-maxdf_0.9/wikitex...</td>\n    </tr>\n    <tr>\n      <th>130</th>\n      <td>0.252880</td>\n      <td>0.132479</td>\n      <td>0.948</td>\n      <td>0.046939</td>\n      <td>0.600440</td>\n      <td>0</td>\n      <td>0.01</td>\n      <td>0</td>\n      <td>200</td>\n      <td>200</td>\n      <td>nytimes</td>\n      <td>0.01</td>\n      <td>500</td>\n      <td>5591</td>\n      <td>0.1</td>\n      <td>[[bridegroom, officiated, laude, bride, cum, m...</td>\n      <td>outputs/full-mindf_power_law-maxdf_0.9/nytimes...</td>\n    </tr>\n  </tbody>\n</table>\n</div>"
     },
     "metadata": {},
     "execution_count": 23
    }
   ],
   "source": [
    "sorted_dvae = (dvae_results.loc[dvae_results.overlaps == 0]\n",
    "                .sort_values([\"input_dir\", coherence_measure], ascending=False)\n",
    "                .groupby(\"input_dir\").head(1))\n",
    "sorted_dvae"
   ]
  },
  {
   "cell_type": "code",
   "execution_count": 24,
   "metadata": {
    "tags": []
   },
   "outputs": [
    {
     "output_type": "stream",
     "name": "stdout",
     "text": [
      "\n\n====wikitext (74)====\nalpha_0.01-lr_0.01-h2dim_0-reg_0.0-epochs_500-anneal_bn_1-anneal_kl_100\ncertifications  mtv_news  australian_recording_industry_association  chart  sal_cinquemani\nstonework  nave  castle  vaulted  architectural\nhouse_of_commons  church_of_england  protestant  highness  queen_victoria\njuveniles  females  iucn  males  species\nmanhattan_project  los_alamos_laboratory  robert_oppenheimer  enrico_fermi  physicist\nepidemiology  symptoms  clinical  diagnosis  therapy\nalbum  certifications  chart  billboard  recording_industry_association_of_america\nsupreme_court  constitutional  courts  statutory  statute\nhindu  inscriptions  dynasty  deity  temple\nnhl  national_hockey_league  playoffs  american_hockey_league  hockey\nfilm  filmography  screenplay  roger_ebert  times_of_india\ncomposer  composers  orchestral  opera  soloists\ntheory  philosopher  empirical  philosophers  thinkers\ndemography  parish  constituency  councillors  domesday\npainting  paintings  painter  literary  poems\nlandfall  gusts  flooding  hurricane  winds\ninfantry  flank  casualties  battalion  battalions\nroyal_australian_air_force  raaf  australian_imperial_force  distinguished_flying_cross  distinguished_service_order\nmanga  anime  anime_news_network  famitsu  serialized\nrotten_tomatoes  roger_ebert  film  screenplay  grossing\nwaterline  conning  turrets  boilers  amidships\nnovel  novels  homer  warren_martyn  simpsons\nchronicler  archbishop  bishops  heir  archbishop_of_canterbury\namidships  ships  conning  ship  torpedoed\ncommunist  soviet_union  coup  communists  nationalist\ninvestigators  testified  prosecution  police  prosecutors\nepisode  dana_scully  robert_shearman  gillian_anderson  fox_mulder\nalbum  albums  guitarist  band  bassist\nastronomers  orbit  brightest  orbiting  orbital\ntrains  electrified  railway  traffic  terminus\nrenumbering  intersection  intersects  intersections  national_highway_system\nuefa  relegation  club  footballer  midfielder\nringo_starr  george_harrison  beatles  simon_leng  guitarist\ntropical  landfall  cyclone  utc  weakening\nflows  tributaries  tributary  watershed  hiking\nrace  lap  laps  drivers  riders\nfuselage  engine  cockpit  airframe  aerodynamic\ncampus  alumni  faculty  students  undergraduate\ndemographics  census  capita  united_states_census_bureau  köppen\ncontinental_army  expedition  militia  frigate  musket\nwicket  match  wrestlers  matches  innings\nspore  basidia  spores  mycologist  hyphae\ntouchdowns  quarterback  touchdown  yards  offense\ncoaster  roller  ride  coasters  national_register_of_historic_places\naircraft  bombers  bomber  pilots  destroyers\nmint  numismatic  obverse  coin  coins\nstorylines  episode  viewers  realises  alan_sepinwall\nrepublican  democratic  democrat  democratic_party  republicans\nlyrically  certifications  mtv_news  sal_cinquemani  chart\ngameplay  gamespot  graphics  game  multiplayer\n\n\n====nytimes (130)====\nalpha_0.01-lr_0.01-h2dim_0-reg_0.1-epochs_500-anneal_bn_200-anneal_kl_200\nbridegroom  officiated  laude  bride  cum\ninc  6mo  earns  otc  rev\nshareholders  earnings  federated  mci  shares\njustices  jurors  supreme_court  united_states_court_of_appeals  justice\nabc  nbc  cbs  nielsen  viewers\ncondolences  mourns  mourn  board_of_directors  heartfelt\npaintings  sculptures  galleries  picasso  sculpture\ndow  tenths  index  stocks  federal_reserve\ninterment  nee  cherished  loving  adored\nmedicaid  medicare  hospitals  welfare  uninsured\ndetectives  precinct  police  robbery  police_department\nteachers  curriculum  regents  educators  graders\nskirts  dresses  chanel  couture  fashion\nalbum  pareles  albums  songs  guitar\narafat  hamas  gaza  palestinians  west_bank\nairlines  airline  fares  passengers  federal_aviation_administration\ndinkins  giuliani  ferrer  bloomberg  vallone\ntouchdown  touchdowns  quarterback  parcells  linebacker\nrhp  lhp  ahl  optioned  pcl\nspecies  wildlife  salmon  fishermen  fishing\nknopf  bantam  random_house  harpercollins  giroux\ntablespoons  teaspoon  servings  tablespoon  garlic\nenron  stocks  investors  hedge  derivatives\ntenants  tenant  zoning  rents  landlords\nbishops  catholics  pope  priests  vatican\nserbs  serbian  serb  bosnian  sunni\nmicrosoft  google  desktop  macintosh  software\nlewinsky  meese  starr  gotti  prosecutors\nrebounds  knicks  nets  ewing  lakers\naddenda  billings  omnicom_group  interpublic_group_of_companies  interpublic\naristide  gorbachev  yeltsin  khmer_rouge  communist_party\ngardeners  bulbs  foliage  shrubs  gardening\nspade  derby  belmont  colt  spades\ninc  otc  qtr  earns  rev\nnasa  emissions  dioxide  ozone  spacecraft\npg-13  screenplay  film  films  comedy\ngenes  cells  vaccine  virus  infected\ngrandchildren  survived  obituary  died  lieu\ninc  9mo  earns  otc  qtr\nconcerto  balanchine  mozart  orchestra  brahms\nsaturdays  tuesdays  fridays  sundays  thursdays\nbathrooms  bath  bedrooms  fireplace  broker\nyea  nay  gore  dukakis  kerry\ndevils  islanders  puck  rangers  defenseman\ntreas  telerate  yield  bonds  municipal_bond_index\nmedicare  republicans  gingrich  social_security  senate\ninning  innings  torre  mets  hitter\nwines  wine  cabernet  bordeaux  vineyards\nnorth_korea  missiles  security_council  nuclear  warheads\ntariffs  exports  international_monetary_fund  imports  world_bank\n"
     ]
    }
   ],
   "source": [
    "for idx, row in sorted_dvae.iterrows():\n",
    "    print(f\"\\n\\n===={row.input_dir} ({idx})====\\n{Path(row.path).parent.name}\")\n",
    "    for topic in row.topics:\n",
    "        print(\"  \".join(topic[:5]))"
   ]
  },
  {
   "cell_type": "code",
   "execution_count": 25,
   "metadata": {
    "tags": []
   },
   "outputs": [
    {
     "output_type": "execute_result",
     "data": {
      "text/plain": [
       "     c_npmi_10_test  c_npmi_10_test_sd     tu        to  \\\n",
       "63         0.133184           0.049758  0.742  0.247959   \n",
       "134        0.158064           0.079289  0.768  0.197449   \n",
       "\n",
       "     mean_c_npmi_10_test_tu  overlaps  alpha  beta input_dir  iterations  \\\n",
       "63                 0.437592         0   1.00  0.05  wikitext        2000   \n",
       "134                0.463032         0   0.25  0.10   nytimes        1000   \n",
       "\n",
       "     run_seeds                                             topics  \\\n",
       "63          42  [[water, area, river, park, miles, years, feet...   \n",
       "134      11235  [[oil, water, plant, environmental, gas, power...   \n",
       "\n",
       "                                                  path  \n",
       "63   outputs/full-mindf_power_law-maxdf_0.9/wikitex...  \n",
       "134  outputs/full-mindf_power_law-maxdf_0.9/nytimes...  "
      ],
      "text/html": "<div>\n<style scoped>\n    .dataframe tbody tr th:only-of-type {\n        vertical-align: middle;\n    }\n\n    .dataframe tbody tr th {\n        vertical-align: top;\n    }\n\n    .dataframe thead th {\n        text-align: right;\n    }\n</style>\n<table border=\"1\" class=\"dataframe\">\n  <thead>\n    <tr style=\"text-align: right;\">\n      <th></th>\n      <th>c_npmi_10_test</th>\n      <th>c_npmi_10_test_sd</th>\n      <th>tu</th>\n      <th>to</th>\n      <th>mean_c_npmi_10_test_tu</th>\n      <th>overlaps</th>\n      <th>alpha</th>\n      <th>beta</th>\n      <th>input_dir</th>\n      <th>iterations</th>\n      <th>run_seeds</th>\n      <th>topics</th>\n      <th>path</th>\n    </tr>\n  </thead>\n  <tbody>\n    <tr>\n      <th>63</th>\n      <td>0.133184</td>\n      <td>0.049758</td>\n      <td>0.742</td>\n      <td>0.247959</td>\n      <td>0.437592</td>\n      <td>0</td>\n      <td>1.00</td>\n      <td>0.05</td>\n      <td>wikitext</td>\n      <td>2000</td>\n      <td>42</td>\n      <td>[[water, area, river, park, miles, years, feet...</td>\n      <td>outputs/full-mindf_power_law-maxdf_0.9/wikitex...</td>\n    </tr>\n    <tr>\n      <th>134</th>\n      <td>0.158064</td>\n      <td>0.079289</td>\n      <td>0.768</td>\n      <td>0.197449</td>\n      <td>0.463032</td>\n      <td>0</td>\n      <td>0.25</td>\n      <td>0.10</td>\n      <td>nytimes</td>\n      <td>1000</td>\n      <td>11235</td>\n      <td>[[oil, water, plant, environmental, gas, power...</td>\n      <td>outputs/full-mindf_power_law-maxdf_0.9/nytimes...</td>\n    </tr>\n  </tbody>\n</table>\n</div>"
     },
     "metadata": {},
     "execution_count": 25
    }
   ],
   "source": [
    "sorted_mallet = (mallet_results.loc[mallet_results.overlaps == 0]\n",
    "                .sort_values([\"input_dir\", coherence_measure], ascending=False)\n",
    "                .groupby(\"input_dir\").head(1))\n",
    "sorted_mallet"
   ]
  },
  {
   "cell_type": "code",
   "execution_count": 26,
   "metadata": {},
   "outputs": [
    {
     "output_type": "stream",
     "name": "stdout",
     "text": [
      "\n\n====wikitext (63)====\nalpha_1.0-beta_0.05-iter_2000-opt_500\nwater  area  river  park  miles\nspecies  birds  males  females  bird\nmatch  championship  team  event  title\nworld  won  race  games  time\nclub  season  team  cup  match\nhorses  horse  breed  coins  silver\nfamily  life  years  time  father\nepisode  season  series  episodes  character\nroute  highway  road  state  north\nelection  president  state  government  party\nbuilding  built  century  house  site\nchinese  china  century  government  world\narab  muslim  israel  egypt  jewish\ngame  team  season  yards  yard\nindia  temple  indian  century  king\nmillion  company  year  announced  business\nalbum  band  music  song  released\nrace  stage  lap  team  time\nforces  war  attack  division  troops\ndisease  cells  blood  cell  risk\nstation  line  bridge  railway  trains\namerican  war  united_states  washington  new_york\nmusic  musical  opera  works  composer\npolice  people  found  death  prison\nschool  students  university  college  year\narmy  emperor  city  battle  war\nseries  character  story  characters  bond\nepisode  homer  season  series  simpsons\nspecies  found  animals  large  long\nbritish  ship  ships  french  island\nsong  album  number  video  music\nart  white  painting  work  flag\nseason  game  team  games  league\nepisode  series  doctor  mulder  character\nwar  government  german  military  soviet\nearth  star  mass  formula  planet\nspecies  brown  fruit  cap  plants\ntropical  storm  hurricane  cyclone  depression\nwomen  god  social  people  world\nstorm  damage  hurricane  people  winds\ncity  town  area  population  local\ngame  player  games  released  players\nking  england  english  royal  scotland\naustralia  test  match  england  australian\nbook  published  story  work  writing\nship  ships  guns  war  class\nfilm  films  production  role  million\nlaw  court  act  government  case\nsystem  design  power  production  engine\naircraft  air  flight  squadron  war\n\n\n====nytimes (134)====\nalpha_0.25-beta_0.1-iter_1000-opt_10\noil  water  plant  environmental  gas\nwar  military  american  iraq  officials\npresident  bush  clinton  administration  white_house\nbuilding  city  street  square  buildings\nofficials  board  report  union  members\npolice  officers  yesterday  man  year\ngame  season  giants  yards  team\nbill  senate  congress  house  republican\npercent  year  market  prices  economy\nmusic  dance  opera  program  work\npeople  time  day  years  home\ncity  mayor  state  new_york  new_york_city\nunited_states  american  china  japan  trade\nnet  share  earns  company  reports\nschool  students  children  schools  education\nrestaurant  wine  food  restaurants  dinner\nwater  year  trees  summer  miles\nisrael  israeli  peace  palestinian  united_nations\npercent  bonds  million  rate  bond\nnew_york  son  father  daughter  died\nart  work  museum  artist  artists\ngame  rangers  team  season  goal\npeople  editor  time  world  good\ncourt  law  judge  case  state\ngovernment  political  minister  soviet  president\ntelevision  network  news  cable  nbc\ncampaign  election  political  republican  party\narticle  page  editor  advertising  president\nstreet  tickets  sunday  avenue  information\nhealth  drug  patients  medical  people\ncompany  million  companies  business  percent\nyankees  game  mets  season  run\ngame  points  team  knicks  season\nminutes  add  salt  oil  cup\ncar  cars  ford  auto  vehicles\nscientists  research  space  science  human\nmusic  band  songs  jazz  rock\nblack  women  church  white  people\ntravel  airport  flight  airline  hotel\nfilm  theater  movie  play  director\nyear  players  contract  team  coach\ncomputer  internet  technology  web  software\ntax  year  percent  million  money\ncase  trial  charges  judge  federal\nbedroom  room  bath  taxes  year\nbook  books  life  author  history\nyear  won  world  round  race\nfamily  beloved  wife  husband  late\nbank  money  fund  stock  banks\nlife  story  man  love  young\n"
     ]
    }
   ],
   "source": [
    "for idx, row in sorted_mallet.iterrows():\n",
    "    print(f\"\\n\\n===={row.input_dir} ({idx})====\\n{Path(row.path).parent.name}\")\n",
    "    for topic in row.topics:\n",
    "        print(\"  \".join(topic[:5]))"
   ]
  },
  {
   "source": [
    "Diagnosing nans:"
   ],
   "cell_type": "markdown",
   "metadata": {}
  },
  {
   "cell_type": "code",
   "execution_count": 34,
   "metadata": {
    "tags": []
   },
   "outputs": [],
   "source": [
    "from collections import Counter\n",
    "\n",
    "bad_words = Counter()\n",
    "n_bad_topics = 0\n",
    "for p in dvae_paths:\n",
    "    coherences = load_json(p)\n",
    "    try:\n",
    "        final_coherence = list(coherences[coherence_measure].values())[-1]\n",
    "    except KeyError:\n",
    "        final_coherence = list(coherences['c_npmi_10_full'].values())[-1]\n",
    "        print(f\"Missing coherence for {p.parent}, {final_coherence['aggregate']:0.3f}\")\n",
    "    topics = load_text(final_coherence[\"path\"])\n",
    "    bad_coherence = np.isnan(final_coherence[\"by_topic\"]) | np.isinf(final_coherence[\"by_topic\"])\n",
    "    #bad_coherence = np.isnan(final_coherence[\"by_topic\"])\n",
    "    if bad_coherence.sum() == 0:\n",
    "        continue\n",
    "    bad_topics = [topic for i, topic in enumerate(topics) if bad_coherence[i]]\n",
    "    print(f\"\\n\\n{p}\")\n",
    "    for bad_topic in bad_topics:\n",
    "        print(\" \".join(bad_topic[:10]))\n",
    "        bad_words.update(bad_topic[:10])\n",
    "        n_bad_topics += 1"
   ]
  },
  {
   "cell_type": "code",
   "execution_count": 31,
   "metadata": {},
   "outputs": [
    {
     "output_type": "execute_result",
     "data": {
      "text/plain": [
       "(25,\n",
       " [('paula_vitaris', 22),\n",
       "  ('dana_scully', 18),\n",
       "  ('fox_mulder', 18),\n",
       "  ('gillian_anderson', 17),\n",
       "  ('lars_pearson', 15),\n",
       "  ('robert_shearman', 14),\n",
       "  ('mulder', 14),\n",
       "  ('scully', 14),\n",
       "  ('frank_spotnitz', 12),\n",
       "  ('david_duchovny', 10)])"
      ]
     },
     "metadata": {},
     "execution_count": 31
    }
   ],
   "source": [
    "n_bad_topics, bad_words.most_common(10)"
   ]
  },
  {
   "cell_type": "code",
   "execution_count": null,
   "metadata": {},
   "outputs": [],
   "source": []
  }
 ]
}